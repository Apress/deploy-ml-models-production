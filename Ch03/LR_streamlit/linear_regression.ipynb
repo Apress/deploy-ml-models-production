{
 "cells": [
  {
   "cell_type": "code",
   "execution_count": 1,
   "metadata": {},
   "outputs": [],
   "source": [
    "import pandas as pd\n",
    "import numpy as np\n",
    "from sklearn.linear_model import LinearRegression\n",
    "import joblib"
   ]
  },
  {
   "cell_type": "code",
   "execution_count": 2,
   "metadata": {},
   "outputs": [],
   "source": [
    "df=pd.read_csv('Linear_regression_dataset.csv',header='infer')"
   ]
  },
  {
   "cell_type": "code",
   "execution_count": 3,
   "metadata": {},
   "outputs": [
    {
     "data": {
      "text/html": [
       "<div>\n",
       "<style scoped>\n",
       "    .dataframe tbody tr th:only-of-type {\n",
       "        vertical-align: middle;\n",
       "    }\n",
       "\n",
       "    .dataframe tbody tr th {\n",
       "        vertical-align: top;\n",
       "    }\n",
       "\n",
       "    .dataframe thead th {\n",
       "        text-align: right;\n",
       "    }\n",
       "</style>\n",
       "<table border=\"1\" class=\"dataframe\">\n",
       "  <thead>\n",
       "    <tr style=\"text-align: right;\">\n",
       "      <th></th>\n",
       "      <th>var_1</th>\n",
       "      <th>var_2</th>\n",
       "      <th>var_3</th>\n",
       "      <th>var_4</th>\n",
       "      <th>var_5</th>\n",
       "      <th>output</th>\n",
       "    </tr>\n",
       "  </thead>\n",
       "  <tbody>\n",
       "    <tr>\n",
       "      <th>453</th>\n",
       "      <td>851</td>\n",
       "      <td>857</td>\n",
       "      <td>78</td>\n",
       "      <td>0.352</td>\n",
       "      <td>0.291</td>\n",
       "      <td>0.463</td>\n",
       "    </tr>\n",
       "    <tr>\n",
       "      <th>717</th>\n",
       "      <td>818</td>\n",
       "      <td>764</td>\n",
       "      <td>83</td>\n",
       "      <td>0.336</td>\n",
       "      <td>0.263</td>\n",
       "      <td>0.430</td>\n",
       "    </tr>\n",
       "    <tr>\n",
       "      <th>725</th>\n",
       "      <td>706</td>\n",
       "      <td>691</td>\n",
       "      <td>83</td>\n",
       "      <td>0.319</td>\n",
       "      <td>0.261</td>\n",
       "      <td>0.388</td>\n",
       "    </tr>\n",
       "    <tr>\n",
       "      <th>1072</th>\n",
       "      <td>720</td>\n",
       "      <td>611</td>\n",
       "      <td>92</td>\n",
       "      <td>0.323</td>\n",
       "      <td>0.253</td>\n",
       "      <td>0.384</td>\n",
       "    </tr>\n",
       "    <tr>\n",
       "      <th>1219</th>\n",
       "      <td>592</td>\n",
       "      <td>717</td>\n",
       "      <td>64</td>\n",
       "      <td>0.310</td>\n",
       "      <td>0.246</td>\n",
       "      <td>0.351</td>\n",
       "    </tr>\n",
       "    <tr>\n",
       "      <th>782</th>\n",
       "      <td>677</td>\n",
       "      <td>646</td>\n",
       "      <td>82</td>\n",
       "      <td>0.326</td>\n",
       "      <td>0.264</td>\n",
       "      <td>0.386</td>\n",
       "    </tr>\n",
       "    <tr>\n",
       "      <th>422</th>\n",
       "      <td>826</td>\n",
       "      <td>581</td>\n",
       "      <td>106</td>\n",
       "      <td>0.342</td>\n",
       "      <td>0.272</td>\n",
       "      <td>0.453</td>\n",
       "    </tr>\n",
       "    <tr>\n",
       "      <th>851</th>\n",
       "      <td>730</td>\n",
       "      <td>748</td>\n",
       "      <td>73</td>\n",
       "      <td>0.333</td>\n",
       "      <td>0.275</td>\n",
       "      <td>0.410</td>\n",
       "    </tr>\n",
       "    <tr>\n",
       "      <th>345</th>\n",
       "      <td>740</td>\n",
       "      <td>806</td>\n",
       "      <td>68</td>\n",
       "      <td>0.319</td>\n",
       "      <td>0.251</td>\n",
       "      <td>0.426</td>\n",
       "    </tr>\n",
       "    <tr>\n",
       "      <th>162</th>\n",
       "      <td>706</td>\n",
       "      <td>778</td>\n",
       "      <td>69</td>\n",
       "      <td>0.322</td>\n",
       "      <td>0.261</td>\n",
       "      <td>0.388</td>\n",
       "    </tr>\n",
       "  </tbody>\n",
       "</table>\n",
       "</div>"
      ],
      "text/plain": [
       "      var_1  var_2  var_3  var_4  var_5  output\n",
       "453     851    857     78  0.352  0.291   0.463\n",
       "717     818    764     83  0.336  0.263   0.430\n",
       "725     706    691     83  0.319  0.261   0.388\n",
       "1072    720    611     92  0.323  0.253   0.384\n",
       "1219    592    717     64  0.310  0.246   0.351\n",
       "782     677    646     82  0.326  0.264   0.386\n",
       "422     826    581    106  0.342  0.272   0.453\n",
       "851     730    748     73  0.333  0.275   0.410\n",
       "345     740    806     68  0.319  0.251   0.426\n",
       "162     706    778     69  0.322  0.261   0.388"
      ]
     },
     "execution_count": 3,
     "metadata": {},
     "output_type": "execute_result"
    }
   ],
   "source": [
    "df.sample(10)"
   ]
  },
  {
   "cell_type": "code",
   "execution_count": 4,
   "metadata": {},
   "outputs": [],
   "source": [
    "#create X ( input variables with all columns except for outout/target column )\n",
    "X=df.loc[:,df.columns !='output']"
   ]
  },
  {
   "cell_type": "code",
   "execution_count": 5,
   "metadata": {},
   "outputs": [],
   "source": [
    "#create the y data with only output column\n",
    "y=df['output']"
   ]
  },
  {
   "cell_type": "code",
   "execution_count": 6,
   "metadata": {},
   "outputs": [],
   "source": [
    "#Train the Linear Regression model on training dataset\n",
    "lr = LinearRegression().fit(X, y)"
   ]
  },
  {
   "cell_type": "code",
   "execution_count": 7,
   "metadata": {},
   "outputs": [
    {
     "data": {
      "text/plain": [
       "0.8692670151914198"
      ]
     },
     "execution_count": 7,
     "metadata": {},
     "output_type": "execute_result"
    }
   ],
   "source": [
    "lr.score(X,y)"
   ]
  },
  {
   "cell_type": "code",
   "execution_count": 8,
   "metadata": {},
   "outputs": [
    {
     "data": {
      "text/plain": [
       "'/Users/49689/Documents/Bain/2020/Book/ml_productionization/chapters/Chap_3 Flask/LR_streamlit'"
      ]
     },
     "execution_count": 8,
     "metadata": {},
     "output_type": "execute_result"
    }
   ],
   "source": [
    "pwd"
   ]
  },
  {
   "cell_type": "code",
   "execution_count": 9,
   "metadata": {},
   "outputs": [
    {
     "data": {
      "text/plain": [
       "['linear_regression_model.pkl']"
      ]
     },
     "execution_count": 9,
     "metadata": {},
     "output_type": "execute_result"
    }
   ],
   "source": [
    "joblib.dump(lr,'linear_regression_model.pkl')"
   ]
  },
  {
   "cell_type": "code",
   "execution_count": 10,
   "metadata": {},
   "outputs": [],
   "source": [
    "test_data=[600,588,90,0.358,0.333]"
   ]
  },
  {
   "cell_type": "code",
   "execution_count": 11,
   "metadata": {},
   "outputs": [
    {
     "name": "stdout",
     "output_type": "stream",
     "text": [
      "[6.00e+02 5.88e+02 9.00e+01 3.58e-01 3.33e-01]\n",
      "[[6.00e+02 5.88e+02 9.00e+01 3.58e-01 3.33e-01]]\n",
      "[0.36901871]\n"
     ]
    }
   ],
   "source": [
    "pred_arr=np.array(test_data)\n",
    "print(pred_arr)\n",
    "preds=pred_arr.reshape(1,-1)\n",
    "print(preds)\n",
    "model=open(\"linear_regression_model.pkl\",\"rb\")\n",
    "lr_model=joblib.load(model)\n",
    "model_prediction=lr_model.predict(preds)\n",
    "print(model_prediction)"
   ]
  },
  {
   "cell_type": "code",
   "execution_count": null,
   "metadata": {
    "collapsed": true
   },
   "outputs": [],
   "source": []
  }
 ],
 "metadata": {
  "kernelspec": {
   "display_name": "Python 3",
   "language": "python",
   "name": "python3"
  },
  "language_info": {
   "codemirror_mode": {
    "name": "ipython",
    "version": 3
   },
   "file_extension": ".py",
   "mimetype": "text/x-python",
   "name": "python",
   "nbconvert_exporter": "python",
   "pygments_lexer": "ipython3",
   "version": "3.7.4"
  }
 },
 "nbformat": 4,
 "nbformat_minor": 2
}
